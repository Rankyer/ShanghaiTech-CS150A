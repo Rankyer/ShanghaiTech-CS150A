{
 "cells": [
  {
   "cell_type": "markdown",
   "metadata": {},
   "source": [
    "CS150A Homework3 -- Coding\n",
    "=======\n",
    "\n",
    "### Instructions / Notes:\n",
    "\n",
    "**_Read these carefully_**\n",
    "\n",
    "* You may need to install the `sklearn` module to run the scripts.\n",
    "* You **may** create new Jupyter notebook cells to use for e.g. testing, debugging, exploring, etc.- this is encouraged in fact!\n",
    "* There will be deductions from your grades if you don't have ouputs when the question requires you to do so. \n",
    "\n",
    "### Submission Instructions:\n",
    " * Do _NOT_ submit your iPython notebook directly.\n",
    " * Instead, upload your answers in PDF version of the HW3.ipynb with your outputs to Gradescope.\n",
    "\n",
    " \n",
    " **If you hava any confusion, please ask TA team in Piazza.**\n",
    "\n",
    "_Have fun!_"
   ]
  },
  {
   "cell_type": "code",
   "execution_count": null,
   "metadata": {},
   "outputs": [],
   "source": [
    "import numpy as np\n",
    "import matplotlib.pyplot as plt\n",
    "from sklearn.datasets import make_blobs\n",
    "from sklearn.cluster import KMeans\n",
    "from sklearn.metrics import silhouette_score\n",
    "from sklearn.preprocessing import StandardScaler\n",
    "from sklearn.cluster import DBSCAN\n",
    "from sklearn.datasets import make_moons\n",
    "from sklearn.metrics import adjusted_rand_score\n",
    "from sklearn import preprocessing\n",
    "import pandas as pd"
   ]
  },
  {
   "cell_type": "markdown",
   "metadata": {},
   "source": [
    "Part 1: Implementation of K-means (70 points)\n",
    "------------------------\n",
    "**In this part, you should finish question 1 to 7.**\n",
    "\n",
    "In the lecture we have learnt about the K-means algorithm, now we need to finish the sectional functions of k-means method, and use it in the following tasks."
   ]
  },
  {
   "cell_type": "markdown",
   "metadata": {},
   "source": [
    "The k-means clustering method is an unsupervised machine learning technique used to identify clusters of data objects in a dataset. There are many different types of clustering methods, but k-means is one of the oldest and most approachable. \n",
    "\n",
    "Conventional k-means requires only a few steps. The first step is to randomly select k centroids, where k is equal to the number of clusters you choose. Centroids are data points representing the center of a cluster.The main element of the algorithm works by a two-step process called expectation-maximization. The expectation step assigns each data point to its nearest centroid. Then, the maximization step computes the mean of all the points for each cluster and sets the new centroid. \n",
    "\n",
    "**Hint: It will be helpful to refer to the pseudocode of K-means in the lecture.**"
   ]
  },
  {
   "cell_type": "code",
   "execution_count": null,
   "metadata": {},
   "outputs": [],
   "source": [
    "X = np.array([[0,2],[0,0],[1,0],[5,0],[5,2]])"
   ]
  },
  {
   "cell_type": "markdown",
   "metadata": {},
   "source": [
    "Question 1: Definition of Euclidean Distance (10 points)\n",
    "------------------------\n",
    "\n",
    "In this question, you should finish the \"euclidean_distance\" function, where we compute the euclidean distance of two given points."
   ]
  },
  {
   "cell_type": "code",
   "execution_count": null,
   "metadata": {},
   "outputs": [],
   "source": [
    "def euclidean_distance(x1, x2):\n",
    "# ----- Write You Code Here ----- #\n"
   ]
  },
  {
   "cell_type": "code",
   "execution_count": null,
   "metadata": {},
   "outputs": [],
   "source": [
    "print(euclidean_distance(X[0], X[4])==5)"
   ]
  },
  {
   "cell_type": "markdown",
   "metadata": {},
   "source": [
    "Question 2: Initialization of Centroids (10 points)\n",
    "------------------------\n",
    "\n",
    "In this question, you should finish the \"centroids_init\" function. Centroid initialization is class-center initialization, that is, k samples of the dataset are randomly selected for each category for class-center initialization. This process is also the starting point of K-means clustering algorithm.\n",
    "\n",
    "**input:**  \n",
    "    X: dataset  \n",
    "    k: num of centroids  \n",
    "**output:**  \n",
    "    return `k * n` matrix of centroids for `m * n` dataset X"
   ]
  },
  {
   "cell_type": "code",
   "execution_count": null,
   "metadata": {},
   "outputs": [],
   "source": [
    "def centroids_init(k, X):\n",
    "# ----- Write You Code Here ----- #\n"
   ]
  },
  {
   "cell_type": "markdown",
   "metadata": {},
   "source": [
    "Question 3: Determination of Belonging Centroids (10 points)\n",
    "------------------------\n",
    "\n",
    "In this question, you should finish the \"closest_centroid\" function. This function defines the class index to which the nearest centroid of the sample belongs according to euclidean distances.\n",
    "\n",
    "**input:**  \n",
    "    sample: a single sample of X  \n",
    "    centroids: matrix of centroids  \n",
    "**output:**  \n",
    "    return the index of center that the sample belongs to"
   ]
  },
  {
   "cell_type": "code",
   "execution_count": null,
   "metadata": {},
   "outputs": [],
   "source": [
    "def closest_centroid(sample, centroids):\n",
    "# ----- Write You Code Here ----- #\n"
   ]
  },
  {
   "cell_type": "markdown",
   "metadata": {},
   "source": [
    "Question 4: Assignment of Clusters (10 points)\n",
    "------------------------\n",
    "\n",
    "In this question, you should finish the \"build_clusters\" function, where we should assign clusters to each data point. This step is actually the clustering process, that is, each sample is assigned to the nearest class cluster.\n",
    "\n",
    "**input:**  \n",
    "    centroids: matrix of centroids\n",
    "    k: num of centroids  \n",
    "    X: dataset  \n",
    "**output:**  \n",
    "    return the matrix of clusters with index of each assigned sample x_i as item"
   ]
  },
  {
   "cell_type": "code",
   "execution_count": null,
   "metadata": {},
   "outputs": [],
   "source": [
    "def build_clusters(centroids, k, X):\n",
    "# ----- Write You Code Here ----- #\n"
   ]
  },
  {
   "cell_type": "markdown",
   "metadata": {},
   "source": [
    "Question 5: Recalculation of Centroids (10 points)\n",
    "------------------------\n",
    "\n",
    "In this question, you should finish the \"calculate_centroids\" function. The core idea of K-means clustering algorithm is to continuously dynamically adjust, recalculate the centroid according to the class cluster generated in the previous step, and then perform the clustering process.\n",
    "\n",
    "**input:**  \n",
    "    clusters: the matrix of clusters with index of each assigned sample x_i as item\n",
    "    k: num of centroids  \n",
    "    X: dataset  \n",
    "**output:**  \n",
    "    return the updated matrix of centroids"
   ]
  },
  {
   "cell_type": "code",
   "execution_count": null,
   "metadata": {},
   "outputs": [],
   "source": [
    "def calculate_centroids(clusters, k, X):\n",
    "# ----- Write You Code Here ----- #\n"
   ]
  },
  {
   "cell_type": "markdown",
   "metadata": {},
   "source": [
    "Question 6: Get Labels (10 points)\n",
    "------------------------\n",
    "\n",
    "In this question, you should finish the \"get_cluster_labels\" function, where we should get the cluster category to which each sample belongs, a.k.a. the labels of each data point.\n",
    "\n",
    "**input:**  \n",
    "    clusters: the matrix of clusters with index of each assigned sample x_i as item  \n",
    "    X: dataset  \n",
    "**output:**  \n",
    "    return the predicted labels of X"
   ]
  },
  {
   "cell_type": "code",
   "execution_count": null,
   "metadata": {},
   "outputs": [],
   "source": [
    "def get_cluster_labels(clusters, X):\n",
    "# ----- Write You Code Here ----- #\n"
   ]
  },
  {
   "cell_type": "markdown",
   "metadata": {},
   "source": [
    "Question 7: K-means Clustering (10 points)\n",
    "------------------------\n",
    "\n",
    "In this question, you should finish the \"mykmeans\" function. Define the K-means clustering algorithm flow based on the above functions.\n",
    "\n",
    "**input:**  \n",
    "    X: dataset  \n",
    "    k: num of centroids  \n",
    "    max_iterations: max time of iterations  \n",
    "**output:**  \n",
    "    return the predicted labels of X\n",
    "\n",
    "**Note: you should exactly finish the following 5 serial parts of the function.**"
   ]
  },
  {
   "cell_type": "code",
   "execution_count": null,
   "metadata": {},
   "outputs": [],
   "source": [
    "def mykmeans(X, k, max_iterations):\n",
    "# ----- Write You Code Here ----- #\n",
    "    # 1.Initialize the centroids\n",
    "\n",
    "    # Iterations\n",
    "    for i in range(max_iterations):\n",
    "        # 2.Build clusters according to the current centroids\n",
    "\n",
    "\n",
    "        # 3.Compute the new centroids according to the new clustering results\n",
    "        centroids = calculate_centroids(clusters, k, X)\n",
    "        # 4.Set the convergence condition as whether the centroids change\n",
    "\n",
    "    # 5.Return final labels of each points\n"
   ]
  },
  {
   "cell_type": "code",
   "execution_count": null,
   "metadata": {},
   "outputs": [],
   "source": [
    "# comparision for your check\n",
    "from sklearn.cluster import KMeans\n",
    "pred1 = mykmeans(X, 2, 10)\n",
    "pred2 = KMeans(n_clusters=2).fit_predict(X)\n",
    "print(pred1, pred2)"
   ]
  },
  {
   "cell_type": "markdown",
   "metadata": {},
   "source": [
    "Good for you! Now you can use your K-means functions to do more wonderful things!"
   ]
  },
  {
   "cell_type": "markdown",
   "metadata": {},
   "source": [
    "Part 2: Plots and ARI (10 points)\n",
    "------------------------\n",
    "\n",
    "**In this part, you should finish question 8.**\n",
    "\n",
    "Now you may wonder given the prediction of K-means clustering method, then how to evaluate the results properly. If the ground truth labels are known, it’s possible to use a clustering metric that considers labels in its evaluation. You can use the `scikit-learn` implementation of a common metric called the **adjusted rand index (ARI)**, which uses true cluster assignments to measure the similarity between true and predicted labels. The ARI output values range between -1 and 1. A score close to 0.0 indicates random assignments, and a score close to 1 indicates perfectly labeled clusters. Besides, it would be helpful if we can see the assignment of clusters with **plots**.\n"
   ]
  },
  {
   "cell_type": "markdown",
   "metadata": {},
   "source": [
    "Question 8: Reach higher ARI (10 points)\n",
    "------------------------\n",
    "\n",
    "In this question, you should tune the parameters `n_clusters` and `max_iters` to see better results of your K-means method, the output ARI should be higher than **0.7** with clear plots."
   ]
  },
  {
   "cell_type": "code",
   "execution_count": null,
   "metadata": {},
   "outputs": [],
   "source": [
    "features = np.genfromtxt('data_x.csv')\n",
    "true_labels = np.genfromtxt('data_y.csv')\n",
    "n_clusters = \n",
    "max_iters = \n",
    "\n",
    "pred = mykmeans(features, n_clusters, max_iters)\n",
    "plt.plot()\n",
    "plt.scatter(features[:, 0], features[:, 1], c=pred)\n",
    "plt.title(\"K-means Clusters\")\n",
    "ari_kmeans = adjusted_rand_score(true_labels, pred)\n",
    "print('ARI of K-means with {} clusters and {} max iterations:'.format(n_clusters, max_iters),ari_kmeans)"
   ]
  },
  {
   "cell_type": "markdown",
   "metadata": {},
   "source": [
    "Part 3: Prediction of Asian Football Teams (20 points)\n",
    "------------------------\n",
    "\n",
    "**In this part, you should finish question 8.**\n",
    "\n",
    "Did you watch the recent 2022 World Cup in Qatar? WOW, that would be super exciting! Maybe you are thinking of which football team to celebrate or even pay closer attention to Asian teams. Now imagine that you could have the chance to choose which Asian football teams to be participated in the next round of World Cup with your K-means methods. What a surpise!"
   ]
  },
  {
   "cell_type": "code",
   "execution_count": null,
   "metadata": {},
   "outputs": [],
   "source": [
    "data = pd.read_csv('soccer.csv')\n",
    "train_x = data[[\"2019Global\",\"2018WorldCup\",\"2015AsianCup\"]]\n",
    "df = pd.DataFrame(train_x)"
   ]
  },
  {
   "cell_type": "markdown",
   "metadata": {},
   "source": [
    "Question 9: Choose 5 Teams (10 points)\n",
    "------------------------\n",
    "\n",
    "If you are about to choose **5** Asian teams from the pool, which five teams would you choose and why? Please briefly explain your reasons with your clustering results as output.\n",
    "\n",
    "**Hint: `preprocessing.MinMaxScaler()` function can help for dataset scaling**"
   ]
  },
  {
   "cell_type": "code",
   "execution_count": null,
   "metadata": {},
   "outputs": [],
   "source": []
  },
  {
   "cell_type": "markdown",
   "metadata": {},
   "source": [
    "Question 10: Choose 9 Teams (10 points)\n",
    "------------------------\n",
    "\n",
    "It's announced that the 2026 World Cup wil  allow 48 teams in total. Now, maybe we could choose up to 9 Asian teams to participate in the contest. So if you are about to choose **9** Asian teams from the pool, which nine teams would you choose and why? Please briefly explain your reasons with your clustering results as output.\n",
    "\n",
    "**Hint: `preprocessing.MinMaxScaler()` function can help for dataset scaling**"
   ]
  },
  {
   "cell_type": "code",
   "execution_count": null,
   "metadata": {},
   "outputs": [],
   "source": []
  }
 ],
 "metadata": {
  "kernelspec": {
   "display_name": "Python 3 (ipykernel)",
   "language": "python",
   "name": "python3"
  },
  "language_info": {
   "codemirror_mode": {
    "name": "ipython",
    "version": 3
   },
   "file_extension": ".py",
   "mimetype": "text/x-python",
   "name": "python",
   "nbconvert_exporter": "python",
   "pygments_lexer": "ipython3",
   "version": "3.8.12"
  }
 },
 "nbformat": 4,
 "nbformat_minor": 2
}
